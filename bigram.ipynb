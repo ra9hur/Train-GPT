{
 "cells": [
  {
   "cell_type": "markdown",
   "metadata": {},
   "source": [
    "https://github.com/Infatoshi/fcc-intro-to-llms/blob/main/bigram.ipynb"
   ]
  },
  {
   "cell_type": "code",
   "execution_count": 1,
   "metadata": {},
   "outputs": [],
   "source": [
    "import torch\n",
    "import torch.nn as nn\n",
    "import torch.nn.functional as F\n"
   ]
  },
  {
   "cell_type": "code",
   "execution_count": 2,
   "metadata": {},
   "outputs": [],
   "source": [
    "with open('wizard_of_oz.txt', 'r', encoding='utf-8') as f:\n",
    "    text = f.read()\n"
   ]
  },
  {
   "cell_type": "code",
   "execution_count": 3,
   "metadata": {},
   "outputs": [
    {
     "name": "stdout",
     "output_type": "stream",
     "text": [
      "232310 232310\n",
      "﻿  DOROTHY AND THE WIZARD IN OZ\n",
      "\n",
      "  BY\n",
      "\n",
      "  L. FRANK BAUM\n",
      "\n",
      "  AUTHOR OF THE WIZARD OF OZ, THE LAND OF OZ\n"
     ]
    }
   ],
   "source": [
    "print(len(text), len(list(text)))\n",
    "print(text[:100])\n"
   ]
  },
  {
   "cell_type": "code",
   "execution_count": 4,
   "metadata": {},
   "outputs": [
    {
     "name": "stdout",
     "output_type": "stream",
     "text": [
      "81\n",
      "['\\n', ' ', '!', '\"', '&', \"'\", '(', ')', '*', ',', '-', '.', '0', '1', '2', '3', '4', '5', '6', '7', '8', '9', ':', ';', '?', 'A', 'B', 'C', 'D', 'E', 'F', 'G', 'H', 'I', 'J', 'K', 'L', 'M', 'N', 'O', 'P', 'Q', 'R', 'S', 'T', 'U', 'V', 'W', 'X', 'Y', 'Z', '[', ']', '_', 'a', 'b', 'c', 'd', 'e', 'f', 'g', 'h', 'i', 'j', 'k', 'l', 'm', 'n', 'o', 'p', 'q', 'r', 's', 't', 'u', 'v', 'w', 'x', 'y', 'z', '\\ufeff']\n"
     ]
    }
   ],
   "source": [
    "chars = sorted(set(text))\n",
    "print(len(chars))\n",
    "print(chars)\n"
   ]
  },
  {
   "cell_type": "code",
   "execution_count": 5,
   "metadata": {},
   "outputs": [
    {
     "name": "stdout",
     "output_type": "stream",
     "text": [
      "[61, 58, 65, 65, 68]\n",
      "hello\n"
     ]
    }
   ],
   "source": [
    "vocab_size = len(chars)\n",
    "\n",
    "string_to_int = {c:i for i,c in enumerate(chars)}\n",
    "int_to_string = {i:c for i,c in enumerate(chars)}\n",
    "\n",
    "encode = lambda s: [string_to_int[c] for c in s]\n",
    "decode = lambda l: ''.join([int_to_string[i] for i in l])\n",
    "\n",
    "print(encode('hello'))\n",
    "print(decode([61, 58, 65, 65, 68]))\n"
   ]
  },
  {
   "cell_type": "code",
   "execution_count": 6,
   "metadata": {},
   "outputs": [],
   "source": [
    "data = torch.tensor(encode(text), dtype=torch.long)\n"
   ]
  },
  {
   "cell_type": "code",
   "execution_count": 7,
   "metadata": {},
   "outputs": [
    {
     "data": {
      "text/plain": [
       "tensor([80,  1,  1, 28, 39, 42, 39, 44, 32, 49,  1, 25, 38, 28,  1, 44, 32, 29,\n",
       "         1, 47, 33, 50, 25, 42, 28,  1, 33, 38,  1, 39, 50,  0,  0,  1,  1, 26,\n",
       "        49,  0,  0,  1,  1, 36, 11,  1, 30, 42, 25, 38, 35,  1, 26, 25, 45, 37,\n",
       "         0,  0,  1,  1, 25, 45, 44, 32, 39, 42,  1, 39, 30,  1, 44, 32, 29,  1,\n",
       "        47, 33, 50, 25, 42, 28,  1, 39, 30,  1, 39, 50,  9,  1, 44, 32, 29,  1,\n",
       "        36, 25, 38, 28,  1, 39, 30,  1, 39, 50])"
      ]
     },
     "execution_count": 7,
     "metadata": {},
     "output_type": "execute_result"
    }
   ],
   "source": [
    "data[:100]\n"
   ]
  },
  {
   "cell_type": "code",
   "execution_count": 7,
   "metadata": {},
   "outputs": [
    {
     "name": "stdout",
     "output_type": "stream",
     "text": [
      "185848 46462\n"
     ]
    }
   ],
   "source": [
    "train_len = int(len(data) * 0.8)\n",
    "train_data = data[:train_len]\n",
    "val_data = data[train_len:]\n",
    "\n",
    "print(len(train_data), len(val_data))\n"
   ]
  },
  {
   "cell_type": "code",
   "execution_count": 9,
   "metadata": {},
   "outputs": [
    {
     "name": "stdout",
     "output_type": "stream",
     "text": [
      "Context: tensor([80]), target: 1\n",
      "Context: tensor([80,  1]), target: 1\n",
      "Context: tensor([80,  1,  1]), target: 28\n",
      "Context: tensor([80,  1,  1, 28]), target: 39\n",
      "Context: tensor([80,  1,  1, 28, 39]), target: 42\n"
     ]
    }
   ],
   "source": [
    "# Illustration of batch size\n",
    "\n",
    "block_size = 5\n",
    "\n",
    "x = train_data[:block_size]\n",
    "y = train_data[1:block_size+1]\n",
    "\n",
    "for t in range(block_size):\n",
    "    print(f\"Context: {x[:t+1]}, target: {y[t]}\")\n"
   ]
  },
  {
   "cell_type": "code",
   "execution_count": 8,
   "metadata": {},
   "outputs": [
    {
     "name": "stdout",
     "output_type": "stream",
     "text": [
      "cuda\n"
     ]
    }
   ],
   "source": [
    "device  = \"cuda\" if torch.cuda.is_available() else \"cpu\"\n",
    "print(device)\n"
   ]
  },
  {
   "cell_type": "code",
   "execution_count": 9,
   "metadata": {},
   "outputs": [
    {
     "name": "stdout",
     "output_type": "stream",
     "text": [
      "inputs:\n",
      "tensor([[58, 54, 71,  1, 73, 61, 58,  1],\n",
      "        [72, 62, 57, 58, 72, 23,  1, 73],\n",
      "        [67, 60,  1, 54, 73,  1, 54,  1],\n",
      "        [76, 61, 68, 71, 72, 58,  1, 62]], device='cuda:0')\n",
      "targets:\n",
      "tensor([[54, 71,  1, 73, 61, 58,  1, 72],\n",
      "        [62, 57, 58, 72, 23,  1, 73, 61],\n",
      "        [60,  1, 54, 73,  1, 54,  1, 73],\n",
      "        [61, 68, 71, 72, 58,  1, 62, 72]], device='cuda:0')\n"
     ]
    }
   ],
   "source": [
    "block_size = 8\n",
    "batch_size = 4\n",
    "\n",
    "n = int(0.8*len(data))\n",
    "train_data = data[:n]\n",
    "val_data = data[n:]\n",
    "\n",
    "def get_batch(split):\n",
    "    data = train_data if split == 'train' else val_data\n",
    "    ix = torch.randint(len(data) - block_size, (batch_size,))\n",
    "    # print(f\"Batch indices: {ix}\")\n",
    "    x = torch.stack([data[i:i+block_size] for i in ix])\n",
    "    y = torch.stack([data[i+1:i+block_size+1] for i in ix])\n",
    "    x, y = x.to(device), y.to(device)\n",
    "    return x, y\n",
    "\n",
    "x, y = get_batch('train')\n",
    "print('inputs:')\n",
    "# print(x.shape)\n",
    "print(x)\n",
    "print('targets:')\n",
    "print(y)\n"
   ]
  },
  {
   "cell_type": "code",
   "execution_count": 18,
   "metadata": {},
   "outputs": [],
   "source": [
    "class BigramLanguageModel(nn.Module):\n",
    "    def __init__(self, vocab_size):\n",
    "        super().__init__()\n",
    "        self.token_embedding_table = nn.Embedding(vocab_size, vocab_size)\n",
    "\n",
    "    def forward(self, index, targets=None):\n",
    "        # index - context or sequence\n",
    "        logits = self.token_embedding_table(index)\n",
    "\n",
    "        if targets is None:\n",
    "            loss = None\n",
    "        else:\n",
    "            # print(logits.shape)           # (4, 8, 81)\n",
    "            # B(batch), T(time), C(channel)\n",
    "            batch, seq_len, vocab_size = logits.shape\n",
    "            # N -batch_size, C - number of classes as in pytorch docs\n",
    "            logits = logits.view(batch * seq_len, vocab_size)\n",
    "            targets = targets.view(batch * seq_len)\n",
    "            loss = F.cross_entropy(logits, targets)\n",
    "\n",
    "        return logits, loss\n",
    "    \n",
    "    def generate(self, index, max_new_tokens):\n",
    "        # index is (B, T) array of indices in the current context\n",
    "        for _ in range(max_new_tokens):\n",
    "            \n",
    "            # get the predictions\n",
    "            logits, loss = self.forward(index)\n",
    "\n",
    "            # Focus only on the last time step\n",
    "            logits = logits[:, -1, :]   # (B, C)\n",
    "\n",
    "            # Apply softmax to get probabilities\n",
    "            probs = F.softmax(logits, dim=-1)   # (B, C)\n",
    "\n",
    "            # Sample from the distribution\n",
    "            ind1 = torch.multinomial(probs, num_samples=1)\n",
    "\n",
    "            index = torch.cat((index, ind1), dim=1) # (B, T+1)\n",
    "\n",
    "        return index\n",
    "  "
   ]
  },
  {
   "cell_type": "code",
   "execution_count": 19,
   "metadata": {},
   "outputs": [
    {
     "data": {
      "text/plain": [
       "torch.Size([1, 501])"
      ]
     },
     "execution_count": 19,
     "metadata": {},
     "output_type": "execute_result"
    }
   ],
   "source": [
    "model = BigramLanguageModel(vocab_size)\n",
    "m = model.to(device)\n",
    "\n",
    "context = torch.zeros((1,1), dtype=torch.long, device=device)   # tensor([[0.]])\n",
    "output = m.generate(context, max_new_tokens=500)\n",
    "output.shape\n"
   ]
  },
  {
   "cell_type": "code",
   "execution_count": 17,
   "metadata": {},
   "outputs": [
    {
     "data": {
      "text/plain": [
       "tensor([ 0, 20, 17, 35, 76, 58, 72, 63, 79, 60, 17, 12, 48, 56, 50, 14, 25, 33,\n",
       "         9, 66, 14, 35, 17, 66, 49, 62, 67, 10,  7, 50,  7, 10, 13,  3, 10, 41,\n",
       "        49, 45, 36, 49, 76, 17,  5, 55, 40, 44, 50, 30, 24, 19, 54, 72, 74,  9,\n",
       "         5, 14, 48, 21,  6, 51, 53, 50, 68, 30, 42, 46,  5, 79, 19, 70, 71, 28,\n",
       "        57, 53, 61, 16, 80, 53, 75, 24, 44, 53, 44, 42, 46, 26, 22, 21, 64, 62,\n",
       "        37, 28, 47, 31, 47, 35, 76, 75, 50, 34, 75, 25, 33, 35, 76, 49, 66, 42,\n",
       "        74, 78, 77, 47, 69, 52, 39, 56, 48, 34, 39, 45,  4, 23, 42,  6, 46, 52,\n",
       "        73, 35, 19, 13, 34, 39, 20, 42,  4, 51, 75, 11, 22, 66, 54,  5, 31,  7,\n",
       "        65, 11, 48, 78, 77,  1, 58, 55, 21, 70,  8, 69, 20, 42, 68, 29, 64, 29,\n",
       "        50, 14, 77,  5, 48, 56, 65, 78, 70, 44, 38, 39, 28, 31, 51, 25, 34, 56,\n",
       "        38,  4, 17, 64, 25, 75, 80, 41, 67, 79, 24, 17, 70, 41, 17,  1, 47, 49,\n",
       "        76, 47, 56, 42, 79, 62, 77, 17, 44, 24, 63, 37, 67, 49, 80, 29, 24, 12,\n",
       "        76, 75, 28, 27, 76,  7, 24, 59, 79, 78, 53, 13, 19, 29,  9, 57, 46, 46,\n",
       "        30, 11, 62, 13, 27,  1,  1, 25, 34, 78, 67, 47, 57, 18, 40, 31, 18, 79,\n",
       "        79, 44, 28,  6, 29, 69, 76, 19, 47, 27, 22,  3, 37, 23, 77, 43,  9, 33,\n",
       "         7, 24, 70, 35,  7, 63, 64, 25, 76, 62, 42, 42, 68, 41, 18, 16, 37, 60,\n",
       "        38, 73, 40, 33,  9, 55, 30, 72, 35, 20, 55, 66,  9, 33,  0, 17, 60, 75,\n",
       "        54, 72, 57, 68, 47, 32,  4, 21, 39, 43, 52, 53,  1, 47, 72,  8, 18, 72,\n",
       "        32,  5, 61, 52, 53, 32, 46, 47, 27, 60, 46, 18,  0, 63, 15, 77, 69, 76,\n",
       "        26, 17, 75, 11, 29, 43, 79, 67, 40,  0, 76,  1, 27, 12, 74, 40, 70, 56,\n",
       "        26, 49, 45, 22, 73, 63,  9, 45, 73, 24, 22, 42, 53, 34, 51, 49, 16, 77,\n",
       "         3,  4, 66, 70, 12, 59, 64, 39, 11, 59, 57, 22, 54,  6, 63, 65, 55, 12,\n",
       "        68, 41, 29, 23, 71, 27,  0,  3, 68, 30,  0, 73, 51, 50, 28,  0, 22, 20,\n",
       "        76,  7, 22, 73, 63,  2, 36,  9, 57, 18, 20, 79, 23, 24, 22, 72, 19, 71,\n",
       "        61, 23, 16, 59, 66, 42, 39, 34, 68, 53, 51, 76, 27, 70, 56, 64, 34, 44,\n",
       "        24, 70, 44, 16, 50, 46, 48,  4,  3, 49, 18, 42, 46, 22,  5, 13,  9, 38,\n",
       "        24, 62,  0, 75, 59, 34, 56, 13, 35, 65, 64, 79, 16, 35, 22, 54,  6, 70,\n",
       "        46,  2, 12, 54, 12, 38, 24, 22, 50, 43,  9, 25, 16, 71,  5],\n",
       "       device='cuda:0')"
      ]
     },
     "execution_count": 17,
     "metadata": {},
     "output_type": "execute_result"
    }
   ],
   "source": [
    "output[0]\n"
   ]
  },
  {
   "cell_type": "code",
   "execution_count": 18,
   "metadata": {},
   "outputs": [
    {
     "name": "stdout",
     "output_type": "stream",
     "text": [
      "\n",
      "85Kwesjzg50XcZ2AI,m2K5mYin-)Z)-1\"-QYULYw5'bPTZF?7asu,'2X9([_ZoFRV'z7qrDd_h4﻿_v?T_TRVB:9kiMDWGWKwvZJvAIKwYmRuyxWp]OcXJOU&;R(V]tK71JO8R&[v.:ma'G)l.Xyx eb9q*p8RoEkEZ2x'XclyqTNODG[AJcN&5kAv﻿Qnz?5qQ5 WYwWcRzix5T?jMnY﻿E?0wvDCw)?fzy_17E,dVVF.i1C  AJynWd6PG6zzTD(Epw7WC:\"M;xS,I)?qK)jkAwiRRoQ64MgNtPI,bFsK8bm,I\n",
      "5gvasdoWH&9OS]_ Ws*6sH'h]_HVWCgV6\n",
      "j3xpwB5v.ESznP\n",
      "w C0uPqcBYU:tj,Ut?:R_J[Y4x\"&mq0fkO.fd:a(jlb0oQE;rC\n",
      "\"oF\n",
      "t[ZD\n",
      ":8w):tj!L,d68z;?:s7rh;4fmROJo_[wCqckJT?qT4ZVX&\"Y6RV:'1,N?i\n",
      "vfJc1Klkz4K:a(qV!0a0N?:ZS,A4r'\n"
     ]
    }
   ],
   "source": [
    "output = output[0].tolist()\n",
    "generated_chars = decode(output)\n",
    "print(generated_chars)\n"
   ]
  },
  {
   "cell_type": "code",
   "execution_count": 20,
   "metadata": {},
   "outputs": [],
   "source": [
    "max_iters = 1000\n",
    "# eval_interval = 2500\n",
    "learning_rate = 3e-4\n",
    "eval_iters = 100\n",
    "\n",
    "# Create a pytorch optimizer\n",
    "optimizer = torch.optim.AdamW(model.parameters(), lr=learning_rate)\n",
    "\n",
    "@torch.no_grad()\n",
    "def estimate_loss():\n",
    "    out = {}\n",
    "    losses = torch.zeros(eval_iters)\n",
    "\n",
    "    model.eval()    \n",
    "    for iter in range(eval_iters):\n",
    "        X, Y = get_batch('validation')\n",
    "        logits, loss = model(X, Y)\n",
    "        losses[iter] = loss.item()\n",
    "\n",
    "    return losses.mean()\n"
   ]
  },
  {
   "cell_type": "code",
   "execution_count": 21,
   "metadata": {},
   "outputs": [
    {
     "name": "stdout",
     "output_type": "stream",
     "text": [
      "Step: 0, Training Loss: 4.771, Validation Loss: 4.767\n",
      "Step: 100, Training Loss: 4.493, Validation Loss: 4.769\n",
      "Step: 200, Training Loss: 4.643, Validation Loss: 4.729\n",
      "Step: 300, Training Loss: 4.664, Validation Loss: 4.742\n",
      "Step: 400, Training Loss: 4.476, Validation Loss: 4.674\n",
      "Step: 500, Training Loss: 4.785, Validation Loss: 4.659\n",
      "Step: 600, Training Loss: 4.928, Validation Loss: 4.649\n",
      "Step: 700, Training Loss: 4.888, Validation Loss: 4.624\n",
      "Step: 800, Training Loss: 4.520, Validation Loss: 4.602\n",
      "Step: 900, Training Loss: 4.626, Validation Loss: 4.561\n",
      "4.600480556488037\n"
     ]
    }
   ],
   "source": [
    "# Training loop\n",
    "for iter in range(max_iters):\n",
    "\n",
    "    # sample a batch of  data\n",
    "    xb, yb = get_batch('train')\n",
    "\n",
    "    model.train()\n",
    "\n",
    "    # Forward pass and evaluate the loss\n",
    "    logits, loss = model(xb, yb)    # OR model.forward(xb, yb)\n",
    "\n",
    "    # Step 3 - Computes gradients for both \"b\" and \"w\" parameters\n",
    "    loss.backward()\n",
    "\n",
    "    # Step 4 - Updates parameters using gradients and the learning rate\n",
    "    optimizer.step()\n",
    "\n",
    "    # Step 5 - After applying gradients, reset gradients for the next loop\n",
    "    optimizer.zero_grad(set_to_none=True)\n",
    "\n",
    "    if iter % eval_iters == 0:\n",
    "        val_loss = estimate_loss()\n",
    "        print(f\"Step: {iter}, Training Loss: {loss:.3f}, Validation Loss: {val_loss:.3f}\")\n",
    "\n",
    "print(loss.item())\n"
   ]
  },
  {
   "cell_type": "markdown",
   "metadata": {},
   "source": [
    "### Positional Encoding"
   ]
  },
  {
   "cell_type": "code",
   "execution_count": 2,
   "metadata": {},
   "outputs": [
    {
     "data": {
      "text/plain": [
       "torch.Size([6, 100])"
      ]
     },
     "execution_count": 2,
     "metadata": {},
     "output_type": "execute_result"
    }
   ],
   "source": [
    "seq_len = 6\n",
    "d_model = 100\n",
    "\n",
    "# Create a matrix of shape (seq_len, d_model)\n",
    "pe = torch.zeros(seq_len, d_model)\n",
    "pe.shape"
   ]
  },
  {
   "cell_type": "code",
   "execution_count": 3,
   "metadata": {},
   "outputs": [
    {
     "data": {
      "text/plain": [
       "torch.Size([6, 1])"
      ]
     },
     "execution_count": 3,
     "metadata": {},
     "output_type": "execute_result"
    }
   ],
   "source": [
    "# POS OR position - create a vector of shape seq_len\n",
    "position = torch.arange(0, seq_len, dtype=torch.float).unsqueeze(1)     # (seq_len, 1)\n",
    "position.shape\n"
   ]
  },
  {
   "cell_type": "code",
   "execution_count": 4,
   "metadata": {},
   "outputs": [
    {
     "data": {
      "text/plain": [
       "torch.Size([50])"
      ]
     },
     "execution_count": 4,
     "metadata": {},
     "output_type": "execute_result"
    }
   ],
   "source": [
    "import math\n",
    "\n",
    "# Division term in the formula - create a vector of  shape (d_model)\n",
    "div_term = torch.exp(torch.arange(0, d_model, 2).float() * (-math.log(10000.0) / d_model))  # (d_model / 2)\n",
    "div_term.shape"
   ]
  },
  {
   "cell_type": "code",
   "execution_count": null,
   "metadata": {},
   "outputs": [],
   "source": [
    "# Apply sine to even indices\n",
    "pe[:, 0::2] = torch.sin(position * div_term)    # sin(position * (10000 ** (2i / d_model))\n"
   ]
  },
  {
   "cell_type": "code",
   "execution_count": null,
   "metadata": {},
   "outputs": [],
   "source": [
    "# Apply cos to odd indices\n",
    "pe[:, 1::2] = torch.cos(position * div_term)    # cos(position * (10000 ** (2i / d_model))\n"
   ]
  },
  {
   "cell_type": "code",
   "execution_count": null,
   "metadata": {},
   "outputs": [],
   "source": [
    "# Add a batch dimension to positional encoding\n",
    "# (1, seq_len, d_model)\n",
    "pe = pe.unsqueeze(0)\n"
   ]
  }
 ],
 "metadata": {
  "kernelspec": {
   "display_name": "py",
   "language": "python",
   "name": "python3"
  },
  "language_info": {
   "codemirror_mode": {
    "name": "ipython",
    "version": 3
   },
   "file_extension": ".py",
   "mimetype": "text/x-python",
   "name": "python",
   "nbconvert_exporter": "python",
   "pygments_lexer": "ipython3",
   "version": "3.11.6"
  }
 },
 "nbformat": 4,
 "nbformat_minor": 2
}
